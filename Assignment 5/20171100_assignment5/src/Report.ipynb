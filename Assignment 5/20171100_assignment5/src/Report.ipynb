{
 "cells": [
  {
   "cell_type": "markdown",
   "metadata": {},
   "source": [
    "# Computer Vision Assignment 5 - Optical Flow\n",
    "### Roll number: 20171100\n",
    "This notebook contains the report for the questions of Computer Vision Assignment 5 - Optical Flow."
   ]
  },
  {
   "cell_type": "markdown",
   "metadata": {},
   "source": [
    "## Imports"
   ]
  },
  {
   "cell_type": "markdown",
   "metadata": {},
   "source": [
    "These are the libraries used for the assignment:"
   ]
  },
  {
   "cell_type": "code",
   "execution_count": null,
   "metadata": {},
   "outputs": [],
   "source": [
    "import numpy as np\n",
    "import os\n",
    "from scipy import signal\n",
    "import cv2\n",
    "from matplotlib import pyplot as plt\n",
    "from matplotlib.backends.backend_agg import FigureCanvasAgg as FigureCanvas\n",
    "from matplotlib.figure import Figure\n",
    "\n",
    "%matplotlib inline"
   ]
  },
  {
   "cell_type": "markdown",
   "metadata": {},
   "source": [
    "The function below is a helper function which is used to display an image."
   ]
  },
  {
   "cell_type": "code",
   "execution_count": null,
   "metadata": {},
   "outputs": [],
   "source": [
    "def showImage(img1, img2, title=['Output 1', 'Output 2'], shape=(15,15), isNeg=[False, False]):\n",
    "    fig = plt.figure(figsize=shape)\n",
    "    plt.subplot(121)\n",
    "    if not isNeg[0]:\n",
    "        plt.imshow(img1, cmap='gray')\n",
    "    else:\n",
    "        temp_max = np.max(img1)\n",
    "        plt.imshow(np.stack((np.clip(img1,0,None)/temp_max,-np.clip(img1,None,0)/temp_max,np.zeros_like(img1)), axis=-1))\n",
    "    plt.axis('off')\n",
    "    plt.title(title[0])\n",
    "    plt.subplot(122)\n",
    "    if not isNeg[1]:\n",
    "        plt.imshow(img2, cmap='gray')\n",
    "    else:\n",
    "        temp_max = np.max(img2)\n",
    "        plt.imshow(np.stack((np.clip(img2,0,None)/temp_max,-np.clip(img2,None,0)/temp_max,np.zeros_like(img2)), axis=-1))\n",
    "    plt.axis('off')\n",
    "    plt.title(title[1])\n",
    "    plt.show()"
   ]
  },
  {
   "cell_type": "markdown",
   "metadata": {},
   "source": [
    "In this assignment our goal is to apply optical flow for tracking objects in a moving scene .\n",
    "\n",
    "The method works by finding movement of pixels in the 2 frames. Here we find the least square solution on a vector using the gradient in the x&y direaction to predicts the movement of the pixels.\n",
    "\n",
    "The below function calculates optical flow using Lukas-Kanade Algorithm for the given pair of input images."
   ]
  },
  {
   "cell_type": "code",
   "execution_count": null,
   "metadata": {},
   "outputs": [],
   "source": [
    "def optical_flow(img1, img2, window_size, threshold=1e-2):\n",
    "    kernel_x = np.array([[-1, 1], [-1, 1]], dtype='float32')\n",
    "    kernel_y = np.array([[-1, -1], [1, 1]], dtype='float32')\n",
    "    kernel_t = np.array([[1, 1], [1, 1]], dtype='float32')\n",
    "    kernel_tn = np.array([[-1, -1], [-1, -1]], dtype='float32')\n",
    "    w = window_size//2\n",
    "    img1 = img1 / 255\n",
    "    img2 = img2 / 255\n",
    "    fx = signal.convolve2d(img1, kernel_x, boundary='symm', mode='same')\n",
    "    fy = signal.convolve2d(img1, kernel_y, boundary='symm', mode='same')\n",
    "    ft = signal.convolve2d(img2, kernel_t, boundary='symm', mode='same') + signal.convolve2d(img1, kernel_tn, boundary='symm', mode='same')\n",
    "    u = np.zeros_like(img1)\n",
    "    v = np.zeros_like(img1)\n",
    "    for i in range(img1.shape[0]-2*w):\n",
    "        for j in range(img1.shape[1]-2*w):\n",
    "            Ix = fx[i:i+2*w+1, j:j+2*w+1].flatten()\n",
    "            Iy = fy[i:i+2*w+1, j:j+2*w+1].flatten()\n",
    "            It = ft[i:i+2*w+1, j:j+2*w+1].flatten()\n",
    "            b = It[:, np.newaxis]\n",
    "            A = np.vstack((Ix, Iy)).T\n",
    "\n",
    "            if np.min(abs(np.linalg.eigvals(A.T @ A))) >= threshold:\n",
    "                nu = np.linalg.pinv(A) @ b\n",
    "                u[i,j]=nu[0]\n",
    "                v[i,j]=nu[1]\n",
    " \n",
    "    return (u,v)"
   ]
  },
  {
   "cell_type": "markdown",
   "metadata": {},
   "source": [
    "## Examples "
   ]
  },
  {
   "cell_type": "code",
   "execution_count": null,
   "metadata": {},
   "outputs": [],
   "source": [
    "im1 = cv2.imread('./eval-data-gray/Basketball/frame10.png', cv2.IMREAD_GRAYSCALE)\n",
    "im2 = cv2.imread('./eval-data-gray/Basketball/frame11.png', cv2.IMREAD_GRAYSCALE)\n",
    "u,v = optical_flow(im1, im2, 15)\n",
    "showImage(im1, im2, ['Input Image 1', 'Input Image 2'], shape=(20,20))\n",
    "showImage(u, v, ['U', 'V'], shape=(20,20), isNeg=[True, True])\n",
    "showImage(u**2 + v**2, np.arctan2(v,u), ['Magnitude', 'Angle'], shape=(20,20), isNeg=[False, True])\n",
    "\n",
    "fig = Figure(figsize=(16,16))\n",
    "canvas = FigureCanvas(fig)\n",
    "ax = fig.gca()\n",
    "ax.imshow(im1, cmap='gray')\n",
    "kp = cv2.goodFeaturesToTrack(im1, 100, 0.01, 10, 3)\n",
    "for arrow_ind in kp:\n",
    "    x,y = arrow_ind[0]\n",
    "    y = int(y)\n",
    "    x = int(x)\n",
    "    ax.arrow(x,y,5*u[y,x],5*v[y,x], width=2, color = (0,0,1))\n",
    "ax.axis(\"off\")\n",
    "canvas.draw()\n",
    "l, b, w, h = fig.bbox.bounds\n",
    "arrow_image = np.frombuffer(canvas.tostring_rgb(), dtype='uint8').reshape((int(h), int(w), 3))\n",
    "segmented_image = (u*u + v*v>1)\n",
    "\n",
    "showImage(arrow_image, segmented_image, ['Arrow for keypoints', 'Segmented Image'], shape=(20,20))"
   ]
  },
  {
   "cell_type": "code",
   "execution_count": null,
   "metadata": {},
   "outputs": [],
   "source": [
    "im1 = cv2.imread('./eval-data-gray/Wooden/frame10.png', cv2.IMREAD_GRAYSCALE)\n",
    "im2 = cv2.imread('./eval-data-gray/Wooden/frame11.png', cv2.IMREAD_GRAYSCALE)\n",
    "u,v = optical_flow(im1, im2, 15)\n",
    "showImage(im1, im2, ['Input Image 1', 'Input Image 2'], shape=(20,20))\n",
    "showImage(u, v, ['U', 'V'], shape=(20,20), isNeg=[True, True])\n",
    "showImage(u**2 + v**2, np.arctan2(v,u), ['Magnitude', 'Angle'], shape=(20,20), isNeg=[False, True])\n",
    "\n",
    "fig = Figure(figsize=(16,16))\n",
    "canvas = FigureCanvas(fig)\n",
    "ax = fig.gca()\n",
    "ax.imshow(im1, cmap='gray')\n",
    "kp = cv2.goodFeaturesToTrack(im1, 100, 0.01, 10, 3)\n",
    "for arrow_ind in kp:\n",
    "    x,y = arrow_ind[0]\n",
    "    y = int(y)\n",
    "    x = int(x)\n",
    "    ax.arrow(x,y,5*u[y,x],5*v[y,x], width=2, color = (0,0,1))\n",
    "ax.axis(\"off\")\n",
    "canvas.draw()\n",
    "l, b, w, h = fig.bbox.bounds\n",
    "arrow_image = np.frombuffer(canvas.tostring_rgb(), dtype='uint8').reshape((int(h), int(w), 3))\n",
    "segmented_image = (u*u + v*v>1)\n",
    "\n",
    "showImage(arrow_image, segmented_image, ['Arrow for keypoints', 'Segmented Image'], shape=(20,20))"
   ]
  },
  {
   "cell_type": "code",
   "execution_count": null,
   "metadata": {},
   "outputs": [],
   "source": [
    "im1 = cv2.imread('./eval-data-gray/Yosemite/frame10.png', cv2.IMREAD_GRAYSCALE)\n",
    "im2 = cv2.imread('./eval-data-gray/Yosemite/frame11.png', cv2.IMREAD_GRAYSCALE)\n",
    "u,v = optical_flow(im1, im2, 15)\n",
    "showImage(im1, im2, ['Input Image 1', 'Input Image 2'], shape=(20,20))\n",
    "showImage(u, v, ['U', 'V'], shape=(20,20), isNeg=[True, True])\n",
    "showImage(u**2 + v**2, np.arctan2(v,u), ['Magnitude', 'Angle'], shape=(20,20), isNeg=[False, True])\n",
    "\n",
    "fig = Figure(figsize=(16,16))\n",
    "canvas = FigureCanvas(fig)\n",
    "ax = fig.gca()\n",
    "ax.imshow(im1, cmap='gray')\n",
    "kp = cv2.goodFeaturesToTrack(im1, 100, 0.01, 10, 3)\n",
    "for arrow_ind in kp:\n",
    "    x,y = arrow_ind[0]\n",
    "    y = int(y)\n",
    "    x = int(x)\n",
    "    ax.arrow(x,y,5*u[y,x],5*v[y,x], width=2, color = (0,0,1))\n",
    "ax.axis(\"off\")\n",
    "canvas.draw()\n",
    "l, b, w, h = fig.bbox.bounds\n",
    "arrow_image = np.frombuffer(canvas.tostring_rgb(), dtype='uint8').reshape((int(h), int(w), 3))\n",
    "segmented_image = (u*u + v*v>1)\n",
    "\n",
    "showImage(arrow_image, segmented_image, ['Arrow for keypoints', 'Segmented Image'], shape=(20,20))"
   ]
  },
  {
   "cell_type": "code",
   "execution_count": null,
   "metadata": {},
   "outputs": [],
   "source": [
    "im1 = cv2.imread('./eval-data-gray/Mequon/frame10.png', cv2.IMREAD_GRAYSCALE)\n",
    "im2 = cv2.imread('./eval-data-gray/Mequon/frame11.png', cv2.IMREAD_GRAYSCALE)\n",
    "u,v = optical_flow(im1, im2, 15)\n",
    "showImage(im1, im2, ['Input Image 1', 'Input Image 2'], shape=(20,20))\n",
    "showImage(u, v, ['U', 'V'], shape=(20,20), isNeg=[True, True])\n",
    "showImage(u**2 + v**2, np.arctan2(v,u), ['Magnitude', 'Angle'], shape=(20,20), isNeg=[False, True])\n",
    "\n",
    "fig = Figure(figsize=(16,16))\n",
    "canvas = FigureCanvas(fig)\n",
    "ax = fig.gca()\n",
    "ax.imshow(im1, cmap='gray')\n",
    "kp = cv2.goodFeaturesToTrack(im1, 100, 0.01, 10, 3)\n",
    "for arrow_ind in kp:\n",
    "    x,y = arrow_ind[0]\n",
    "    y = int(y)\n",
    "    x = int(x)\n",
    "    ax.arrow(x,y,5*u[y,x],5*v[y,x], width=2, color = (0,0,1))\n",
    "ax.axis(\"off\")\n",
    "canvas.draw()\n",
    "l, b, w, h = fig.bbox.bounds\n",
    "arrow_image = np.frombuffer(canvas.tostring_rgb(), dtype='uint8').reshape((int(h), int(w), 3))\n",
    "segmented_image = (u*u + v*v>1)\n",
    "\n",
    "showImage(arrow_image, segmented_image, ['Arrow for keypoints', 'Segmented Image'], shape=(20,20))"
   ]
  },
  {
   "cell_type": "code",
   "execution_count": null,
   "metadata": {},
   "outputs": [],
   "source": [
    "im1 = cv2.imread('./eval-data-gray/Dumptruck/frame10.png', cv2.IMREAD_GRAYSCALE)\n",
    "im2 = cv2.imread('./eval-data-gray/Dumptruck/frame11.png', cv2.IMREAD_GRAYSCALE)\n",
    "u,v = optical_flow(im1, im2, 15)\n",
    "showImage(im1, im2, ['Input Image 1', 'Input Image 2'], shape=(20,20))\n",
    "showImage(u, v, ['U', 'V'], shape=(20,20), isNeg=[True, True])\n",
    "showImage(u**2 + v**2, np.arctan2(v,u), ['Magnitude', 'Angle'], shape=(20,20), isNeg=[False, True])\n",
    "\n",
    "fig = Figure(figsize=(16,16))\n",
    "canvas = FigureCanvas(fig)\n",
    "ax = fig.gca()\n",
    "ax.imshow(im1, cmap='gray')\n",
    "kp = cv2.goodFeaturesToTrack(im1, 100, 0.01, 10, 3)\n",
    "for arrow_ind in kp:\n",
    "    x,y = arrow_ind[0]\n",
    "    y = int(y)\n",
    "    x = int(x)\n",
    "    ax.arrow(x,y,5*u[y,x],5*v[y,x], width=2, color = (0,0,1))\n",
    "ax.axis(\"off\")\n",
    "canvas.draw()\n",
    "l, b, w, h = fig.bbox.bounds\n",
    "arrow_image = np.frombuffer(canvas.tostring_rgb(), dtype='uint8').reshape((int(h), int(w), 3))\n",
    "segmented_image = (u*u + v*v>1)\n",
    "\n",
    "showImage(arrow_image, segmented_image, ['Arrow for keypoints', 'Segmented Image'], shape=(20,20))"
   ]
  },
  {
   "cell_type": "code",
   "execution_count": null,
   "metadata": {},
   "outputs": [],
   "source": [
    "im1 = cv2.imread('./input_data/taxi1.jpg', cv2.IMREAD_GRAYSCALE)\n",
    "im2 = cv2.imread('./input_data/taxi2.jpg', cv2.IMREAD_GRAYSCALE)\n",
    "u,v = optical_flow(im1, im2, 15)\n",
    "showImage(im1, im2, ['Input Image 1', 'Input Image 2'], shape=(20,20))\n",
    "showImage(u, v, ['U', 'V'], shape=(20,20), isNeg=[True, True])\n",
    "showImage(u**2 + v**2, np.arctan2(v,u), ['Magnitude', 'Angle'], shape=(20,20), isNeg=[False, True])\n",
    "\n",
    "fig = Figure(figsize=(16,16))\n",
    "canvas = FigureCanvas(fig)\n",
    "ax = fig.gca()\n",
    "ax.imshow(im1, cmap='gray')\n",
    "kp = cv2.goodFeaturesToTrack(im1, 100, 0.01, 10, 3)\n",
    "for arrow_ind in kp:\n",
    "    x,y = arrow_ind[0]\n",
    "    y = int(y)\n",
    "    x = int(x)\n",
    "    ax.arrow(x,y,5*u[y,x],5*v[y,x], width=2, color = (0,0,1))\n",
    "ax.axis(\"off\")\n",
    "canvas.draw()\n",
    "l, b, w, h = fig.bbox.bounds\n",
    "arrow_image = np.frombuffer(canvas.tostring_rgb(), dtype='uint8').reshape((int(h), int(w), 3))\n",
    "segmented_image = (u*u + v*v>1)\n",
    "\n",
    "showImage(arrow_image, segmented_image, ['Arrow for keypoints', 'Segmented Image'], shape=(20,20))"
   ]
  },
  {
   "cell_type": "markdown",
   "metadata": {},
   "source": [
    "### Video Output"
   ]
  },
  {
   "cell_type": "code",
   "execution_count": null,
   "metadata": {},
   "outputs": [],
   "source": [
    "def videoToImages(vid, out_dir, temp_fps):\n",
    "    out_dir = os.path.normpath(out_dir)\n",
    "    \n",
    "    cap = cv2.VideoCapture(vid)\n",
    "    success, im = cap.read()\n",
    "    \n",
    "    fps = cap.get(cv2.CAP_PROP_FPS)\n",
    "    frame_count = 0\n",
    "    \n",
    "    if not os.path.exists(out_dir):\n",
    "        os.makedirs(out_dir)\n",
    "    old_files = [os.path.join(out_dir, f) for f in os.listdir(out_dir) if os.path.isfile(os.path.join(out_dir, f))]\n",
    "    for f in old_files:\n",
    "        os.remove(f)\n",
    "    \n",
    "    temp_cnt = 0\n",
    "    while success:\n",
    "        temp_cnt += 1\n",
    "        if temp_cnt == temp_fps:\n",
    "            temp_cnt = 0\n",
    "            cv2.imwrite(os.path.join(out_dir, str(frame_count) + '.png'), im)\n",
    "            frame_count += 1\n",
    "        success, im = cap.read()\n",
    "    return fps, frame_count"
   ]
  },
  {
   "cell_type": "code",
   "execution_count": null,
   "metadata": {},
   "outputs": [],
   "source": [
    "def processFrames(in_dir, out_dir):\n",
    "    in_dir = os.path.normpath(in_dir)\n",
    "    out_dir = os.path.normpath(out_dir)\n",
    "    \n",
    "    if not os.path.exists(out_dir):\n",
    "        os.makedirs(out_dir)\n",
    "    old_files = [os.path.join(out_dir, f) for f in os.listdir(out_dir) if os.path.isfile(os.path.join(out_dir, f))]\n",
    "    for f in old_files:\n",
    "        os.remove(f)\n",
    "    \n",
    "    files = sorted(os.listdir(in_dir), key = lambda x : int(x.split('.')[0]))\n",
    "    files = [os.path.join(in_dir, f) for f in files if os.path.isfile(os.path.join(in_dir, f))]\n",
    "    for i in range(len(files)-1):\n",
    "        im1 = cv2.imread(files[i], cv2.IMREAD_GRAYSCALE)\n",
    "        im2 = cv2.imread(files[i+1], cv2.IMREAD_GRAYSCALE)\n",
    "        u, v = optical_flow(im1, im2, 15)\n",
    "        im = u**2 + v**2\n",
    "        cv2.imwrite(os.path.join(out_dir, str(i) + '.png'), im)"
   ]
  },
  {
   "cell_type": "code",
   "execution_count": null,
   "metadata": {},
   "outputs": [],
   "source": [
    "def framesToVideo(inp_dir, frame_rate, out_file):\n",
    "    inp_dir = os.path.normpath(inp_dir)\n",
    "    \n",
    "    files = sorted(os.listdir(inp_dir), key = lambda x : int(x.split('.')[0]))\n",
    "    files = [os.path.join(inp_dir, f) for f in files if os.path.isfile(os.path.join(inp_dir, f))]\n",
    "    \n",
    "    im = cv2.imread(files[0])\n",
    "    height, width, num_channels = im.shape\n",
    "\n",
    "    fourcc = cv2.VideoWriter_fourcc(*'DIVX')\n",
    "    writer = cv2.VideoWriter(out_file, fourcc, frame_rate, (width, height))\n",
    "\n",
    "    for f in files:\n",
    "        writer.write(cv2.imread(f))\n",
    "    writer.release()"
   ]
  },
  {
   "cell_type": "code",
   "execution_count": null,
   "metadata": {},
   "outputs": [],
   "source": [
    "vid_path = './input_data/MOT16-09.mp4'\n",
    "in_path = './temp_frames/'\n",
    "out_path = './temp_frames2/'\n",
    "out_file_path = './output_video.avi'\n",
    "fps, numFrames = videoToImages(vid_path, in_path, 15);\n",
    "print(\"The FPS of the video is %d and the total number of frames extracted are %d\" % (fps, numFrames))\n",
    "processFrames(in_path, out_path)\n",
    "framesToVideo(out_path, fps//15, out_file_path);"
   ]
  },
  {
   "cell_type": "code",
   "execution_count": null,
   "metadata": {},
   "outputs": [],
   "source": [
    "vid_path = './input_data/taxi.mp4'\n",
    "in_path = './temp_frames/'\n",
    "out_path = './temp_frames2/'\n",
    "out_file_path = './output_video.avi'\n",
    "fps, numFrames = videoToImages(vid_path, in_path, 2);\n",
    "print(\"The FPS of the video is %d and the total number of frames extracted are %d\" % (fps, numFrames))\n",
    "processFrames(in_path, out_path)\n",
    "framesToVideo(out_path, fps//2, out_file_path);"
   ]
  },
  {
   "cell_type": "markdown",
   "metadata": {},
   "source": [
    "The output is available on https://drive.google.com/drive/folders/1M8hfj52eYDxQ0VrcO0fVjnSChFTJw2-M?usp=sharing"
   ]
  },
  {
   "cell_type": "markdown",
   "metadata": {},
   "source": [
    "## When camera is moving?\n",
    "\n",
    "When the camera is moving, object tracking becomes tougher since there is lot more noise added because there is no particular isolated object which is moving, instead the entire image seens to be moving."
   ]
  },
  {
   "cell_type": "code",
   "execution_count": null,
   "metadata": {},
   "outputs": [],
   "source": [
    "im1 = cv2.imread('./eval-data-gray/Wooden/frame10.png', cv2.IMREAD_GRAYSCALE)\n",
    "im2 = cv2.imread('./eval-data-gray/Wooden/frame11.png', cv2.IMREAD_GRAYSCALE)\n",
    "u,v = optical_flow(im1, im2, 15)\n",
    "showImage(im1, im2, ['Input Image 1', 'Input Image 2'], shape=(20,20))\n",
    "showImage(u, v, ['U', 'V'], shape=(20,20), isNeg=[True, True])\n",
    "showImage(u**2 + v**2, np.arctan2(v,u), ['Magnitude', 'Angle'], shape=(20,20), isNeg=[False, True])\n",
    "\n",
    "fig = Figure(figsize=(16,16))\n",
    "canvas = FigureCanvas(fig)\n",
    "ax = fig.gca()\n",
    "ax.imshow(im1, cmap='gray')\n",
    "kp = cv2.goodFeaturesToTrack(im1, 100, 0.01, 10, 3)\n",
    "for arrow_ind in kp:\n",
    "    x,y = arrow_ind[0]\n",
    "    y = int(y)\n",
    "    x = int(x)\n",
    "    ax.arrow(x,y,5*u[y,x],5*v[y,x], width=2, color = (0,0,1))\n",
    "ax.axis(\"off\")\n",
    "canvas.draw()\n",
    "l, b, w, h = fig.bbox.bounds\n",
    "arrow_image = np.frombuffer(canvas.tostring_rgb(), dtype='uint8').reshape((int(h), int(w), 3))\n",
    "segmented_image = (u*u + v*v>1)\n",
    "\n",
    "showImage(arrow_image, segmented_image, ['Arrow for keypoints', 'Segmented Image'], shape=(20,20))"
   ]
  }
 ],
 "metadata": {
  "kernelspec": {
   "display_name": "Python 3",
   "language": "python",
   "name": "python3"
  },
  "language_info": {
   "codemirror_mode": {
    "name": "ipython",
    "version": 3
   },
   "file_extension": ".py",
   "mimetype": "text/x-python",
   "name": "python",
   "nbconvert_exporter": "python",
   "pygments_lexer": "ipython3",
   "version": "3.6.3"
  }
 },
 "nbformat": 4,
 "nbformat_minor": 2
}
